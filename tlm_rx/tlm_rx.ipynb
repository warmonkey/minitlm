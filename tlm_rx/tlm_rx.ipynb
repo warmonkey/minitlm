{
 "cells": [
  {
   "cell_type": "code",
   "execution_count": null,
   "id": "4dde5591-56e0-4cdf-9bc8-2b99ffcc0179",
   "metadata": {
    "tags": []
   },
   "outputs": [],
   "source": [
    "import serial\n",
    "from tlm_parser import Parser\n",
    "import struct"
   ]
  },
  {
   "cell_type": "code",
   "execution_count": null,
   "id": "eea3cc43-aaf8-4b37-89a3-d2cd80f5f8ee",
   "metadata": {
    "tags": []
   },
   "outputs": [],
   "source": [
    "IMUMAG_DATA = '<Lhhhhhhhhhh'\n",
    "BARO_DATA = '<LLhH'\n",
    "GNSS_DATA = '<LLHBBllllllHHH'\n",
    "FDR_DATA = '<LLL'\n",
    "\n",
    "def parse_packet(flags, payload):\n",
    "    #print('%02x' % flags, payload.hex())\n",
    "    \n",
    "    if flags & Parser.FLAG_IMUMAG:\n",
    "        vals = struct.unpack(IMUMAG_DATA, payload)\n",
    "        payload = payload[struct.calcsize(IMUMAG_DATA):]\n",
    "        print((vals[0], 'IMUMag', ) + vals[1:])\n",
    "        \n",
    "    if flags & Parser.FLAG_BARO:\n",
    "        vals = struct.unpack(BARO_DATA, payload)\n",
    "        payload = payload[struct.calcsize(BARO_DATA):]\n",
    "        print((vals[0], 'Baro', ) + vals[1:])\n",
    "        \n",
    "    if flags & Parser.FLAG_GNSS:\n",
    "        vals = struct.unpack(GNSS_DATA, payload)\n",
    "        payload = payload[struct.calcsize(GNSS_DATA):]\n",
    "        print((vals[0], 'Gnss', ) + vals[1:])\n",
    "    \n",
    "    if flags & Parser.FLAG_FDR:\n",
    "        vals = struct.unpack(FDR_DATA, payload)\n",
    "        payload = payload[struct.calcsize(FDR_DATA):]\n",
    "        print((vals[0], 'FDR', ) + vals[1:])\n",
    "        \n",
    "    if len(payload):\n",
    "        print(payload.hex())"
   ]
  },
  {
   "cell_type": "code",
   "execution_count": null,
   "id": "6222156e-4155-477f-b5e7-9f1146258577",
   "metadata": {},
   "outputs": [],
   "source": [
    "def radio_open(port: str, baud: int):\n",
    "    return serial.Serial(port, baudrate=baud, timeout=1)\n",
    "    \n",
    "def radio_loop(ser) -> None:\n",
    "    # Initialize serial connection\n",
    "    parser = Parser(parse_packet)\n",
    "    stopping = False\n",
    "    while not stopping:\n",
    "        try:\n",
    "            buf = ser.read(ser.in_waiting)\n",
    "            if len(buf): parser.parse_bytes(buf)\n",
    "        except KeyboardInterrupt:\n",
    "            stopping = True\n",
    "        except:\n",
    "            ser.close()\n",
    "    print('Exiting...')\n",
    "        "
   ]
  },
  {
   "cell_type": "code",
   "execution_count": null,
   "id": "af1b0d78-e485-42a4-bbc3-11557cd8b44b",
   "metadata": {
    "tags": []
   },
   "outputs": [],
   "source": [
    "radio = radio_open('COM3', 9600)\n",
    "radio_loop(radio)\n",
    "radio.close()"
   ]
  },
  {
   "cell_type": "code",
   "execution_count": null,
   "id": "874006e5-f09c-4694-9acb-c31c928ddd56",
   "metadata": {
    "tags": []
   },
   "outputs": [],
   "source": [
    "radio.close()"
   ]
  },
  {
   "cell_type": "code",
   "execution_count": null,
   "id": "00cc5bad-aa55-43b8-a86c-d8c54b3796e7",
   "metadata": {},
   "outputs": [],
   "source": []
  }
 ],
 "metadata": {
  "kernelspec": {
   "display_name": "Python 3 (ipykernel)",
   "language": "python",
   "name": "python3"
  },
  "language_info": {
   "codemirror_mode": {
    "name": "ipython",
    "version": 3
   },
   "file_extension": ".py",
   "mimetype": "text/x-python",
   "name": "python",
   "nbconvert_exporter": "python",
   "pygments_lexer": "ipython3",
   "version": "3.11.7"
  }
 },
 "nbformat": 4,
 "nbformat_minor": 5
}
